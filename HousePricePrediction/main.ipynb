{
 "cells": [
  {
   "cell_type": "code",
   "execution_count": 49,
   "id": "47f0054c-5a25-4070-be91-4c59f4ac8f3b",
   "metadata": {},
   "outputs": [],
   "source": [
    "import pandas as pd\n",
    "import torch\n",
    "import torch.nn as nn\n",
    "import torch.nn.functional as F"
   ]
  },
  {
   "cell_type": "code",
   "execution_count": 50,
   "id": "f9146490-af57-45fb-85a9-8b560db1e5d2",
   "metadata": {},
   "outputs": [
    {
     "data": {
      "text/html": [
       "<div>\n",
       "<style scoped>\n",
       "    .dataframe tbody tr th:only-of-type {\n",
       "        vertical-align: middle;\n",
       "    }\n",
       "\n",
       "    .dataframe tbody tr th {\n",
       "        vertical-align: top;\n",
       "    }\n",
       "\n",
       "    .dataframe thead th {\n",
       "        text-align: right;\n",
       "    }\n",
       "</style>\n",
       "<table border=\"1\" class=\"dataframe\">\n",
       "  <thead>\n",
       "    <tr style=\"text-align: right;\">\n",
       "      <th></th>\n",
       "      <th>crim</th>\n",
       "      <th>zn</th>\n",
       "      <th>indus</th>\n",
       "      <th>chas</th>\n",
       "      <th>nox</th>\n",
       "      <th>rm</th>\n",
       "      <th>age</th>\n",
       "      <th>dis</th>\n",
       "      <th>rad</th>\n",
       "      <th>tax</th>\n",
       "      <th>ptratio</th>\n",
       "      <th>b</th>\n",
       "      <th>lstat</th>\n",
       "      <th>medv</th>\n",
       "    </tr>\n",
       "  </thead>\n",
       "  <tbody>\n",
       "    <tr>\n",
       "      <th>0</th>\n",
       "      <td>0.00632</td>\n",
       "      <td>18.0</td>\n",
       "      <td>2.31</td>\n",
       "      <td>0</td>\n",
       "      <td>0.538</td>\n",
       "      <td>6.575</td>\n",
       "      <td>65.2</td>\n",
       "      <td>4.0900</td>\n",
       "      <td>1</td>\n",
       "      <td>296</td>\n",
       "      <td>15.3</td>\n",
       "      <td>396.90</td>\n",
       "      <td>4.98</td>\n",
       "      <td>24.0</td>\n",
       "    </tr>\n",
       "    <tr>\n",
       "      <th>1</th>\n",
       "      <td>0.02731</td>\n",
       "      <td>0.0</td>\n",
       "      <td>7.07</td>\n",
       "      <td>0</td>\n",
       "      <td>0.469</td>\n",
       "      <td>6.421</td>\n",
       "      <td>78.9</td>\n",
       "      <td>4.9671</td>\n",
       "      <td>2</td>\n",
       "      <td>242</td>\n",
       "      <td>17.8</td>\n",
       "      <td>396.90</td>\n",
       "      <td>9.14</td>\n",
       "      <td>21.6</td>\n",
       "    </tr>\n",
       "    <tr>\n",
       "      <th>2</th>\n",
       "      <td>0.02729</td>\n",
       "      <td>0.0</td>\n",
       "      <td>7.07</td>\n",
       "      <td>0</td>\n",
       "      <td>0.469</td>\n",
       "      <td>7.185</td>\n",
       "      <td>61.1</td>\n",
       "      <td>4.9671</td>\n",
       "      <td>2</td>\n",
       "      <td>242</td>\n",
       "      <td>17.8</td>\n",
       "      <td>392.83</td>\n",
       "      <td>4.03</td>\n",
       "      <td>34.7</td>\n",
       "    </tr>\n",
       "    <tr>\n",
       "      <th>3</th>\n",
       "      <td>0.03237</td>\n",
       "      <td>0.0</td>\n",
       "      <td>2.18</td>\n",
       "      <td>0</td>\n",
       "      <td>0.458</td>\n",
       "      <td>6.998</td>\n",
       "      <td>45.8</td>\n",
       "      <td>6.0622</td>\n",
       "      <td>3</td>\n",
       "      <td>222</td>\n",
       "      <td>18.7</td>\n",
       "      <td>394.63</td>\n",
       "      <td>2.94</td>\n",
       "      <td>33.4</td>\n",
       "    </tr>\n",
       "    <tr>\n",
       "      <th>4</th>\n",
       "      <td>0.06905</td>\n",
       "      <td>0.0</td>\n",
       "      <td>2.18</td>\n",
       "      <td>0</td>\n",
       "      <td>0.458</td>\n",
       "      <td>7.147</td>\n",
       "      <td>54.2</td>\n",
       "      <td>6.0622</td>\n",
       "      <td>3</td>\n",
       "      <td>222</td>\n",
       "      <td>18.7</td>\n",
       "      <td>396.90</td>\n",
       "      <td>5.33</td>\n",
       "      <td>36.2</td>\n",
       "    </tr>\n",
       "    <tr>\n",
       "      <th>...</th>\n",
       "      <td>...</td>\n",
       "      <td>...</td>\n",
       "      <td>...</td>\n",
       "      <td>...</td>\n",
       "      <td>...</td>\n",
       "      <td>...</td>\n",
       "      <td>...</td>\n",
       "      <td>...</td>\n",
       "      <td>...</td>\n",
       "      <td>...</td>\n",
       "      <td>...</td>\n",
       "      <td>...</td>\n",
       "      <td>...</td>\n",
       "      <td>...</td>\n",
       "    </tr>\n",
       "    <tr>\n",
       "      <th>501</th>\n",
       "      <td>0.06263</td>\n",
       "      <td>0.0</td>\n",
       "      <td>11.93</td>\n",
       "      <td>0</td>\n",
       "      <td>0.573</td>\n",
       "      <td>6.593</td>\n",
       "      <td>69.1</td>\n",
       "      <td>2.4786</td>\n",
       "      <td>1</td>\n",
       "      <td>273</td>\n",
       "      <td>21.0</td>\n",
       "      <td>391.99</td>\n",
       "      <td>9.67</td>\n",
       "      <td>22.4</td>\n",
       "    </tr>\n",
       "    <tr>\n",
       "      <th>502</th>\n",
       "      <td>0.04527</td>\n",
       "      <td>0.0</td>\n",
       "      <td>11.93</td>\n",
       "      <td>0</td>\n",
       "      <td>0.573</td>\n",
       "      <td>6.120</td>\n",
       "      <td>76.7</td>\n",
       "      <td>2.2875</td>\n",
       "      <td>1</td>\n",
       "      <td>273</td>\n",
       "      <td>21.0</td>\n",
       "      <td>396.90</td>\n",
       "      <td>9.08</td>\n",
       "      <td>20.6</td>\n",
       "    </tr>\n",
       "    <tr>\n",
       "      <th>503</th>\n",
       "      <td>0.06076</td>\n",
       "      <td>0.0</td>\n",
       "      <td>11.93</td>\n",
       "      <td>0</td>\n",
       "      <td>0.573</td>\n",
       "      <td>6.976</td>\n",
       "      <td>91.0</td>\n",
       "      <td>2.1675</td>\n",
       "      <td>1</td>\n",
       "      <td>273</td>\n",
       "      <td>21.0</td>\n",
       "      <td>396.90</td>\n",
       "      <td>5.64</td>\n",
       "      <td>23.9</td>\n",
       "    </tr>\n",
       "    <tr>\n",
       "      <th>504</th>\n",
       "      <td>0.10959</td>\n",
       "      <td>0.0</td>\n",
       "      <td>11.93</td>\n",
       "      <td>0</td>\n",
       "      <td>0.573</td>\n",
       "      <td>6.794</td>\n",
       "      <td>89.3</td>\n",
       "      <td>2.3889</td>\n",
       "      <td>1</td>\n",
       "      <td>273</td>\n",
       "      <td>21.0</td>\n",
       "      <td>393.45</td>\n",
       "      <td>6.48</td>\n",
       "      <td>22.0</td>\n",
       "    </tr>\n",
       "    <tr>\n",
       "      <th>505</th>\n",
       "      <td>0.04741</td>\n",
       "      <td>0.0</td>\n",
       "      <td>11.93</td>\n",
       "      <td>0</td>\n",
       "      <td>0.573</td>\n",
       "      <td>6.030</td>\n",
       "      <td>80.8</td>\n",
       "      <td>2.5050</td>\n",
       "      <td>1</td>\n",
       "      <td>273</td>\n",
       "      <td>21.0</td>\n",
       "      <td>396.90</td>\n",
       "      <td>7.88</td>\n",
       "      <td>11.9</td>\n",
       "    </tr>\n",
       "  </tbody>\n",
       "</table>\n",
       "<p>506 rows × 14 columns</p>\n",
       "</div>"
      ],
      "text/plain": [
       "        crim    zn  indus  chas    nox     rm   age     dis  rad  tax  \\\n",
       "0    0.00632  18.0   2.31     0  0.538  6.575  65.2  4.0900    1  296   \n",
       "1    0.02731   0.0   7.07     0  0.469  6.421  78.9  4.9671    2  242   \n",
       "2    0.02729   0.0   7.07     0  0.469  7.185  61.1  4.9671    2  242   \n",
       "3    0.03237   0.0   2.18     0  0.458  6.998  45.8  6.0622    3  222   \n",
       "4    0.06905   0.0   2.18     0  0.458  7.147  54.2  6.0622    3  222   \n",
       "..       ...   ...    ...   ...    ...    ...   ...     ...  ...  ...   \n",
       "501  0.06263   0.0  11.93     0  0.573  6.593  69.1  2.4786    1  273   \n",
       "502  0.04527   0.0  11.93     0  0.573  6.120  76.7  2.2875    1  273   \n",
       "503  0.06076   0.0  11.93     0  0.573  6.976  91.0  2.1675    1  273   \n",
       "504  0.10959   0.0  11.93     0  0.573  6.794  89.3  2.3889    1  273   \n",
       "505  0.04741   0.0  11.93     0  0.573  6.030  80.8  2.5050    1  273   \n",
       "\n",
       "     ptratio       b  lstat  medv  \n",
       "0       15.3  396.90   4.98  24.0  \n",
       "1       17.8  396.90   9.14  21.6  \n",
       "2       17.8  392.83   4.03  34.7  \n",
       "3       18.7  394.63   2.94  33.4  \n",
       "4       18.7  396.90   5.33  36.2  \n",
       "..       ...     ...    ...   ...  \n",
       "501     21.0  391.99   9.67  22.4  \n",
       "502     21.0  396.90   9.08  20.6  \n",
       "503     21.0  396.90   5.64  23.9  \n",
       "504     21.0  393.45   6.48  22.0  \n",
       "505     21.0  396.90   7.88  11.9  \n",
       "\n",
       "[506 rows x 14 columns]"
      ]
     },
     "execution_count": 50,
     "metadata": {},
     "output_type": "execute_result"
    }
   ],
   "source": [
    "df = pd.read_csv(\"BostonHousing.csv\")\n",
    "df"
   ]
  },
  {
   "cell_type": "code",
   "execution_count": 51,
   "id": "4c0704c8-33bb-4a5e-a8c2-09f50349e883",
   "metadata": {},
   "outputs": [],
   "source": [
    "x = df.drop('medv', axis=1)\n",
    "y = df['medv']"
   ]
  },
  {
   "cell_type": "code",
   "execution_count": 52,
   "id": "e33bfa36",
   "metadata": {},
   "outputs": [
    {
     "data": {
      "text/plain": [
       "0      24.0\n",
       "1      21.6\n",
       "2      34.7\n",
       "3      33.4\n",
       "4      36.2\n",
       "       ... \n",
       "501    22.4\n",
       "502    20.6\n",
       "503    23.9\n",
       "504    22.0\n",
       "505    11.9\n",
       "Name: medv, Length: 506, dtype: float64"
      ]
     },
     "execution_count": 52,
     "metadata": {},
     "output_type": "execute_result"
    }
   ],
   "source": [
    "y"
   ]
  },
  {
   "cell_type": "code",
   "execution_count": 53,
   "id": "7d9c09b7",
   "metadata": {},
   "outputs": [],
   "source": [
    "x = x.values"
   ]
  },
  {
   "cell_type": "code",
   "execution_count": 54,
   "id": "1a647b99",
   "metadata": {},
   "outputs": [],
   "source": [
    "y = y.values"
   ]
  },
  {
   "cell_type": "code",
   "execution_count": 55,
   "id": "abefe07d",
   "metadata": {},
   "outputs": [
    {
     "data": {
      "text/plain": [
       "array([24. , 21.6, 34.7, 33.4, 36.2, 28.7, 22.9, 27.1, 16.5, 18.9, 15. ,\n",
       "       18.9, 21.7, 20.4, 18.2, 19.9, 23.1, 17.5, 20.2, 18.2, 13.6, 19.6,\n",
       "       15.2, 14.5, 15.6, 13.9, 16.6, 14.8, 18.4, 21. , 12.7, 14.5, 13.2,\n",
       "       13.1, 13.5, 18.9, 20. , 21. , 24.7, 30.8, 34.9, 26.6, 25.3, 24.7,\n",
       "       21.2, 19.3, 20. , 16.6, 14.4, 19.4, 19.7, 20.5, 25. , 23.4, 18.9,\n",
       "       35.4, 24.7, 31.6, 23.3, 19.6, 18.7, 16. , 22.2, 25. , 33. , 23.5,\n",
       "       19.4, 22. , 17.4, 20.9, 24.2, 21.7, 22.8, 23.4, 24.1, 21.4, 20. ,\n",
       "       20.8, 21.2, 20.3, 28. , 23.9, 24.8, 22.9, 23.9, 26.6, 22.5, 22.2,\n",
       "       23.6, 28.7, 22.6, 22. , 22.9, 25. , 20.6, 28.4, 21.4, 38.7, 43.8,\n",
       "       33.2, 27.5, 26.5, 18.6, 19.3, 20.1, 19.5, 19.5, 20.4, 19.8, 19.4,\n",
       "       21.7, 22.8, 18.8, 18.7, 18.5, 18.3, 21.2, 19.2, 20.4, 19.3, 22. ,\n",
       "       20.3, 20.5, 17.3, 18.8, 21.4, 15.7, 16.2, 18. , 14.3, 19.2, 19.6,\n",
       "       23. , 18.4, 15.6, 18.1, 17.4, 17.1, 13.3, 17.8, 14. , 14.4, 13.4,\n",
       "       15.6, 11.8, 13.8, 15.6, 14.6, 17.8, 15.4, 21.5, 19.6, 15.3, 19.4,\n",
       "       17. , 15.6, 13.1, 41.3, 24.3, 23.3, 27. , 50. , 50. , 50. , 22.7,\n",
       "       25. , 50. , 23.8, 23.8, 22.3, 17.4, 19.1, 23.1, 23.6, 22.6, 29.4,\n",
       "       23.2, 24.6, 29.9, 37.2, 39.8, 36.2, 37.9, 32.5, 26.4, 29.6, 50. ,\n",
       "       32. , 29.8, 34.9, 37. , 30.5, 36.4, 31.1, 29.1, 50. , 33.3, 30.3,\n",
       "       34.6, 34.9, 32.9, 24.1, 42.3, 48.5, 50. , 22.6, 24.4, 22.5, 24.4,\n",
       "       20. , 21.7, 19.3, 22.4, 28.1, 23.7, 25. , 23.3, 28.7, 21.5, 23. ,\n",
       "       26.7, 21.7, 27.5, 30.1, 44.8, 50. , 37.6, 31.6, 46.7, 31.5, 24.3,\n",
       "       31.7, 41.7, 48.3, 29. , 24. , 25.1, 31.5, 23.7, 23.3, 22. , 20.1,\n",
       "       22.2, 23.7, 17.6, 18.5, 24.3, 20.5, 24.5, 26.2, 24.4, 24.8, 29.6,\n",
       "       42.8, 21.9, 20.9, 44. , 50. , 36. , 30.1, 33.8, 43.1, 48.8, 31. ,\n",
       "       36.5, 22.8, 30.7, 50. , 43.5, 20.7, 21.1, 25.2, 24.4, 35.2, 32.4,\n",
       "       32. , 33.2, 33.1, 29.1, 35.1, 45.4, 35.4, 46. , 50. , 32.2, 22. ,\n",
       "       20.1, 23.2, 22.3, 24.8, 28.5, 37.3, 27.9, 23.9, 21.7, 28.6, 27.1,\n",
       "       20.3, 22.5, 29. , 24.8, 22. , 26.4, 33.1, 36.1, 28.4, 33.4, 28.2,\n",
       "       22.8, 20.3, 16.1, 22.1, 19.4, 21.6, 23.8, 16.2, 17.8, 19.8, 23.1,\n",
       "       21. , 23.8, 23.1, 20.4, 18.5, 25. , 24.6, 23. , 22.2, 19.3, 22.6,\n",
       "       19.8, 17.1, 19.4, 22.2, 20.7, 21.1, 19.5, 18.5, 20.6, 19. , 18.7,\n",
       "       32.7, 16.5, 23.9, 31.2, 17.5, 17.2, 23.1, 24.5, 26.6, 22.9, 24.1,\n",
       "       18.6, 30.1, 18.2, 20.6, 17.8, 21.7, 22.7, 22.6, 25. , 19.9, 20.8,\n",
       "       16.8, 21.9, 27.5, 21.9, 23.1, 50. , 50. , 50. , 50. , 50. , 13.8,\n",
       "       13.8, 15. , 13.9, 13.3, 13.1, 10.2, 10.4, 10.9, 11.3, 12.3,  8.8,\n",
       "        7.2, 10.5,  7.4, 10.2, 11.5, 15.1, 23.2,  9.7, 13.8, 12.7, 13.1,\n",
       "       12.5,  8.5,  5. ,  6.3,  5.6,  7.2, 12.1,  8.3,  8.5,  5. , 11.9,\n",
       "       27.9, 17.2, 27.5, 15. , 17.2, 17.9, 16.3,  7. ,  7.2,  7.5, 10.4,\n",
       "        8.8,  8.4, 16.7, 14.2, 20.8, 13.4, 11.7,  8.3, 10.2, 10.9, 11. ,\n",
       "        9.5, 14.5, 14.1, 16.1, 14.3, 11.7, 13.4,  9.6,  8.7,  8.4, 12.8,\n",
       "       10.5, 17.1, 18.4, 15.4, 10.8, 11.8, 14.9, 12.6, 14.1, 13. , 13.4,\n",
       "       15.2, 16.1, 17.8, 14.9, 14.1, 12.7, 13.5, 14.9, 20. , 16.4, 17.7,\n",
       "       19.5, 20.2, 21.4, 19.9, 19. , 19.1, 19.1, 20.1, 19.9, 19.6, 23.2,\n",
       "       29.8, 13.8, 13.3, 16.7, 12. , 14.6, 21.4, 23. , 23.7, 25. , 21.8,\n",
       "       20.6, 21.2, 19.1, 20.6, 15.2,  7. ,  8.1, 13.6, 20.1, 21.8, 24.5,\n",
       "       23.1, 19.7, 18.3, 21.2, 17.5, 16.8, 22.4, 20.6, 23.9, 22. , 11.9])"
      ]
     },
     "execution_count": 55,
     "metadata": {},
     "output_type": "execute_result"
    }
   ],
   "source": [
    "y"
   ]
  },
  {
   "cell_type": "code",
   "execution_count": 56,
   "id": "abadea0b",
   "metadata": {},
   "outputs": [
    {
     "data": {
      "text/plain": [
       "array([[6.3200e-03, 1.8000e+01, 2.3100e+00, ..., 1.5300e+01, 3.9690e+02,\n",
       "        4.9800e+00],\n",
       "       [2.7310e-02, 0.0000e+00, 7.0700e+00, ..., 1.7800e+01, 3.9690e+02,\n",
       "        9.1400e+00],\n",
       "       [2.7290e-02, 0.0000e+00, 7.0700e+00, ..., 1.7800e+01, 3.9283e+02,\n",
       "        4.0300e+00],\n",
       "       ...,\n",
       "       [6.0760e-02, 0.0000e+00, 1.1930e+01, ..., 2.1000e+01, 3.9690e+02,\n",
       "        5.6400e+00],\n",
       "       [1.0959e-01, 0.0000e+00, 1.1930e+01, ..., 2.1000e+01, 3.9345e+02,\n",
       "        6.4800e+00],\n",
       "       [4.7410e-02, 0.0000e+00, 1.1930e+01, ..., 2.1000e+01, 3.9690e+02,\n",
       "        7.8800e+00]])"
      ]
     },
     "execution_count": 56,
     "metadata": {},
     "output_type": "execute_result"
    }
   ],
   "source": [
    "x"
   ]
  },
  {
   "cell_type": "code",
   "execution_count": 57,
   "id": "9ec7fa08",
   "metadata": {},
   "outputs": [
    {
     "data": {
      "text/plain": [
       "(506, 13)"
      ]
     },
     "execution_count": 57,
     "metadata": {},
     "output_type": "execute_result"
    }
   ],
   "source": [
    "x.shape"
   ]
  },
  {
   "cell_type": "code",
   "execution_count": 58,
   "id": "e1c1ea95",
   "metadata": {},
   "outputs": [],
   "source": [
    "x_train = x[0:405, :]\n",
    "x_test = x[406::, :]"
   ]
  },
  {
   "cell_type": "code",
   "execution_count": 59,
   "id": "dbda1fda",
   "metadata": {},
   "outputs": [
    {
     "data": {
      "text/plain": [
       "((405, 13), (100, 13))"
      ]
     },
     "execution_count": 59,
     "metadata": {},
     "output_type": "execute_result"
    }
   ],
   "source": [
    "x_train.shape, x_test.shape"
   ]
  },
  {
   "cell_type": "code",
   "execution_count": 60,
   "id": "2dda2bd9",
   "metadata": {},
   "outputs": [
    {
     "data": {
      "text/plain": [
       "(506,)"
      ]
     },
     "execution_count": 60,
     "metadata": {},
     "output_type": "execute_result"
    }
   ],
   "source": [
    "y.shape"
   ]
  },
  {
   "cell_type": "code",
   "execution_count": 61,
   "id": "d3713b12",
   "metadata": {},
   "outputs": [],
   "source": [
    "y_train = y[0:405]\n",
    "y_test = y[406::]"
   ]
  },
  {
   "cell_type": "code",
   "execution_count": 62,
   "id": "dd716b26",
   "metadata": {},
   "outputs": [
    {
     "data": {
      "text/plain": [
       "((405,), (100,))"
      ]
     },
     "execution_count": 62,
     "metadata": {},
     "output_type": "execute_result"
    }
   ],
   "source": [
    "y_train.shape, y_test.shape"
   ]
  },
  {
   "cell_type": "code",
   "execution_count": 63,
   "id": "3d63ad9a",
   "metadata": {},
   "outputs": [],
   "source": [
    "x_test = torch.FloatTensor(x_test)\n",
    "x_train = torch.FloatTensor(x_train)\n",
    "y_test = torch.FloatTensor(y_test)\n",
    "y_train = torch.FloatTensor(y_train)"
   ]
  },
  {
   "cell_type": "code",
   "execution_count": 96,
   "id": "4b2105a9",
   "metadata": {},
   "outputs": [],
   "source": [
    "class LinearRegressionModel(nn.Module):\n",
    "    def __init__(self, in_features = 13, out_features=1):\n",
    "        super(LinearRegressionModel, self).__init__()\n",
    "        self.linear = nn.Linear(in_features, out_features)\n",
    "\n",
    "    def forward(self, x):\n",
    "        return self.linear(x)"
   ]
  },
  {
   "cell_type": "code",
   "execution_count": 97,
   "id": "52b80626",
   "metadata": {},
   "outputs": [],
   "source": [
    "model = LinearRegressionModel()"
   ]
  },
  {
   "cell_type": "code",
   "execution_count": 98,
   "id": "bc6eea4d",
   "metadata": {},
   "outputs": [
    {
     "data": {
      "text/plain": [
       "<generator object Module.parameters at 0x0000018C59757680>"
      ]
     },
     "execution_count": 98,
     "metadata": {},
     "output_type": "execute_result"
    }
   ],
   "source": [
    "model.parameters()"
   ]
  },
  {
   "cell_type": "code",
   "execution_count": 99,
   "id": "41e82eaa",
   "metadata": {},
   "outputs": [],
   "source": [
    "loss_func = nn.MSELoss()\n",
    "optimizer = torch.optim.Adam(model.parameters(), lr=0.01)"
   ]
  },
  {
   "cell_type": "code",
   "execution_count": 100,
   "id": "6d00bd06",
   "metadata": {},
   "outputs": [
    {
     "name": "stderr",
     "output_type": "stream",
     "text": [
      "C:\\Users\\IMCK\\AppData\\Local\\Packages\\PythonSoftwareFoundation.Python.3.11_qbz5n2kfra8p0\\LocalCache\\local-packages\\Python311\\site-packages\\torch\\nn\\modules\\loss.py:535: UserWarning: Using a target size (torch.Size([405])) that is different to the input size (torch.Size([405, 1])). This will likely lead to incorrect results due to broadcasting. Please ensure they have the same size.\n",
      "  return F.mse_loss(input, target, reduction=self.reduction)\n"
     ]
    },
    {
     "name": "stdout",
     "output_type": "stream",
     "text": [
      "Epoch: 99, loss: 131.0185089111328\n",
      "Epoch: 199, loss: 104.82685089111328\n",
      "Epoch: 299, loss: 96.90785217285156\n",
      "Epoch: 399, loss: 92.9059829711914\n",
      "Epoch: 499, loss: 90.9559326171875\n",
      "Epoch: 599, loss: 90.01603698730469\n",
      "Epoch: 699, loss: 89.50554656982422\n",
      "Epoch: 799, loss: 89.1714859008789\n",
      "Epoch: 899, loss: 88.92125701904297\n",
      "Epoch: 999, loss: 88.72219848632812\n"
     ]
    }
   ],
   "source": [
    "epochs = 1000\n",
    "losses = []\n",
    "\n",
    "for epoch in range(epochs):\n",
    "    y_pred = model.forward(x_train)\n",
    "    \n",
    "    loss = loss_func(y_pred, y_train)\n",
    "\n",
    "    losses.append(loss.detach())\n",
    "\n",
    "    if (epoch+1)%100 == 0:\n",
    "        print(f\"Epoch: {epoch}, loss: {loss}\")\n",
    "\n",
    "    optimizer.zero_grad()\n",
    "    loss.backward()\n",
    "    optimizer.step()"
   ]
  },
  {
   "cell_type": "code",
   "execution_count": 101,
   "id": "4c72cf6c",
   "metadata": {},
   "outputs": [
    {
     "data": {
      "text/plain": [
       "(torch.Size([405, 1]), torch.Size([405]))"
      ]
     },
     "execution_count": 101,
     "metadata": {},
     "output_type": "execute_result"
    }
   ],
   "source": [
    "y_pred.shape, y_train.shape"
   ]
  },
  {
   "cell_type": "code",
   "execution_count": 102,
   "id": "aa142a27",
   "metadata": {},
   "outputs": [
    {
     "name": "stdout",
     "output_type": "stream",
     "text": [
      "tensor(81.5856)\n",
      "y_eval: 23.86878776550293, y_test: 11.899999618530273, diff: 11.968788146972656.\n",
      "y_eval: 23.81342124938965, y_test: 27.899999618530273, diff: -4.086578369140625.\n",
      "y_eval: 23.185016632080078, y_test: 17.200000762939453, diff: 5.985015869140625.\n",
      "y_eval: 18.756717681884766, y_test: 27.5, diff: -8.743282318115234.\n",
      "y_eval: 10.381624221801758, y_test: 15.0, diff: -4.618375778198242.\n",
      "y_eval: 13.72343635559082, y_test: 17.200000762939453, diff: -3.476564407348633.\n",
      "y_eval: 12.274092674255371, y_test: 17.899999618530273, diff: -5.625906944274902.\n",
      "y_eval: 18.472070693969727, y_test: 16.299999237060547, diff: 2.1720714569091797.\n",
      "y_eval: 12.748592376708984, y_test: 7.0, diff: 5.748592376708984.\n",
      "y_eval: 13.080942153930664, y_test: 7.199999809265137, diff: 5.880942344665527.\n",
      "y_eval: 13.203947067260742, y_test: 7.5, diff: 5.703947067260742.\n",
      "y_eval: 15.362825393676758, y_test: 10.399999618530273, diff: 4.962825775146484.\n",
      "y_eval: 9.576042175292969, y_test: 8.800000190734863, diff: 0.7760419845581055.\n",
      "y_eval: 13.720298767089844, y_test: 8.399999618530273, diff: 5.32029914855957.\n",
      "y_eval: 23.78874969482422, y_test: 16.700000762939453, diff: 7.088748931884766.\n",
      "y_eval: 23.768508911132812, y_test: 14.199999809265137, diff: 9.568509101867676.\n",
      "y_eval: 22.20732879638672, y_test: 20.799999237060547, diff: 1.4073295593261719.\n",
      "y_eval: 12.456022262573242, y_test: 13.399999618530273, diff: -0.9439773559570312.\n",
      "y_eval: 11.90892219543457, y_test: 11.699999809265137, diff: 0.2089223861694336.\n",
      "y_eval: 12.314043998718262, y_test: 8.300000190734863, diff: 4.014043807983398.\n",
      "y_eval: 12.225218772888184, y_test: 10.199999809265137, diff: 2.025218963623047.\n",
      "y_eval: 11.26708698272705, y_test: 10.899999618530273, diff: 0.36708736419677734.\n",
      "y_eval: 15.520432472229004, y_test: 11.0, diff: 4.520432472229004.\n",
      "y_eval: 14.709218978881836, y_test: 9.5, diff: 5.209218978881836.\n",
      "y_eval: 15.39913272857666, y_test: 14.5, diff: 0.8991327285766602.\n",
      "y_eval: 15.622154235839844, y_test: 14.100000381469727, diff: 1.5221538543701172.\n",
      "y_eval: 15.857133865356445, y_test: 16.100000381469727, diff: -0.24286651611328125.\n",
      "y_eval: 16.3193302154541, y_test: 14.300000190734863, diff: 2.0193300247192383.\n",
      "y_eval: 15.988219261169434, y_test: 11.699999809265137, diff: 4.288219451904297.\n",
      "y_eval: 16.4164981842041, y_test: 13.399999618530273, diff: 3.016498565673828.\n",
      "y_eval: 13.361934661865234, y_test: 9.600000381469727, diff: 3.761934280395508.\n",
      "y_eval: 12.595236778259277, y_test: 8.699999809265137, diff: 3.8952369689941406.\n",
      "y_eval: 14.132070541381836, y_test: 8.399999618530273, diff: 5.7320709228515625.\n",
      "y_eval: 25.957700729370117, y_test: 12.800000190734863, diff: 13.157700538635254.\n",
      "y_eval: 25.1107177734375, y_test: 10.5, diff: 14.6107177734375.\n",
      "y_eval: 26.068513870239258, y_test: 17.100000381469727, diff: 8.968513488769531.\n",
      "y_eval: 26.68696403503418, y_test: 18.399999618530273, diff: 8.286964416503906.\n",
      "y_eval: 26.180788040161133, y_test: 15.399999618530273, diff: 10.78078842163086.\n",
      "y_eval: 20.53910255432129, y_test: 10.800000190734863, diff: 9.739102363586426.\n",
      "y_eval: 14.035444259643555, y_test: 11.800000190734863, diff: 2.2354440689086914.\n",
      "y_eval: 23.90717315673828, y_test: 14.899999618530273, diff: 9.007173538208008.\n",
      "y_eval: 26.16806983947754, y_test: 12.600000381469727, diff: 13.568069458007812.\n",
      "y_eval: 26.514802932739258, y_test: 14.100000381469727, diff: 12.414802551269531.\n",
      "y_eval: 23.447744369506836, y_test: 13.0, diff: 10.447744369506836.\n",
      "y_eval: 13.040803909301758, y_test: 13.399999618530273, diff: -0.3591957092285156.\n",
      "y_eval: 25.484699249267578, y_test: 15.199999809265137, diff: 10.284699440002441.\n",
      "y_eval: 26.228599548339844, y_test: 16.100000381469727, diff: 10.128599166870117.\n",
      "y_eval: 26.377344131469727, y_test: 17.799999237060547, diff: 8.57734489440918.\n",
      "y_eval: 13.16286849975586, y_test: 14.899999618530273, diff: -1.737131118774414.\n",
      "y_eval: 14.654367446899414, y_test: 14.100000381469727, diff: 0.5543670654296875.\n",
      "y_eval: 13.13361930847168, y_test: 12.699999809265137, diff: 0.43361949920654297.\n",
      "y_eval: 12.551164627075195, y_test: 13.5, diff: -0.9488353729248047.\n",
      "y_eval: 22.08485984802246, y_test: 14.899999618530273, diff: 7.1848602294921875.\n",
      "y_eval: 26.390478134155273, y_test: 20.0, diff: 6.390478134155273.\n",
      "y_eval: 21.937463760375977, y_test: 16.399999618530273, diff: 5.537464141845703.\n",
      "y_eval: 26.558626174926758, y_test: 17.700000762939453, diff: 8.858625411987305.\n",
      "y_eval: 26.45977210998535, y_test: 19.5, diff: 6.959772109985352.\n",
      "y_eval: 26.762136459350586, y_test: 20.200000762939453, diff: 6.562135696411133.\n",
      "y_eval: 25.917152404785156, y_test: 21.399999618530273, diff: 4.517152786254883.\n",
      "y_eval: 23.370344161987305, y_test: 19.899999618530273, diff: 3.4703445434570312.\n",
      "y_eval: 13.596238136291504, y_test: 19.0, diff: -5.403761863708496.\n",
      "y_eval: 24.360301971435547, y_test: 19.100000381469727, diff: 5.26030158996582.\n",
      "y_eval: 24.469152450561523, y_test: 19.100000381469727, diff: 5.369152069091797.\n",
      "y_eval: 25.125349044799805, y_test: 20.100000381469727, diff: 5.025348663330078.\n",
      "y_eval: 26.60807991027832, y_test: 19.899999618530273, diff: 6.708080291748047.\n",
      "y_eval: 26.87538719177246, y_test: 19.600000381469727, diff: 7.275386810302734.\n",
      "y_eval: 26.360958099365234, y_test: 23.200000762939453, diff: 3.1609573364257812.\n",
      "y_eval: 25.582181930541992, y_test: 29.799999237060547, diff: -4.217817306518555.\n",
      "y_eval: 24.74185562133789, y_test: 13.800000190734863, diff: 10.941855430603027.\n",
      "y_eval: 23.262727737426758, y_test: 13.300000190734863, diff: 9.962727546691895.\n",
      "y_eval: 26.70275115966797, y_test: 16.700000762939453, diff: 10.002750396728516.\n",
      "y_eval: 24.034807205200195, y_test: 12.0, diff: 12.034807205200195.\n",
      "y_eval: 25.792333602905273, y_test: 14.600000381469727, diff: 11.192333221435547.\n",
      "y_eval: 25.48029136657715, y_test: 21.399999618530273, diff: 4.080291748046875.\n",
      "y_eval: 26.19977569580078, y_test: 23.0, diff: 3.1997756958007812.\n",
      "y_eval: 26.586688995361328, y_test: 23.700000762939453, diff: 2.886688232421875.\n",
      "y_eval: 26.86968994140625, y_test: 25.0, diff: 1.86968994140625.\n",
      "y_eval: 25.535064697265625, y_test: 21.799999237060547, diff: 3.735065460205078.\n",
      "y_eval: 24.720117568969727, y_test: 20.600000381469727, diff: 4.1201171875.\n",
      "y_eval: 25.841442108154297, y_test: 21.200000762939453, diff: 4.641441345214844.\n",
      "y_eval: 26.410844802856445, y_test: 19.100000381469727, diff: 7.310844421386719.\n",
      "y_eval: 25.40798568725586, y_test: 20.600000381469727, diff: 4.807985305786133.\n",
      "y_eval: 26.750333786010742, y_test: 15.199999809265137, diff: 11.550333976745605.\n",
      "y_eval: 25.008352279663086, y_test: 7.0, diff: 18.008352279663086.\n",
      "y_eval: 23.910127639770508, y_test: 8.100000381469727, diff: 15.810127258300781.\n",
      "y_eval: 26.961599349975586, y_test: 13.600000381469727, diff: 13.36159896850586.\n",
      "y_eval: 26.902368545532227, y_test: 20.100000381469727, diff: 6.8023681640625.\n",
      "y_eval: 23.68996238708496, y_test: 21.799999237060547, diff: 1.889963150024414.\n",
      "y_eval: 23.396738052368164, y_test: 24.5, diff: -1.103261947631836.\n",
      "y_eval: 22.81941795349121, y_test: 23.100000381469727, diff: -0.2805824279785156.\n",
      "y_eval: 24.066551208496094, y_test: 19.700000762939453, diff: 4.366550445556641.\n",
      "y_eval: 24.304275512695312, y_test: 18.299999237060547, diff: 6.004276275634766.\n",
      "y_eval: 24.1196346282959, y_test: 21.200000762939453, diff: 2.9196338653564453.\n",
      "y_eval: 24.120773315429688, y_test: 17.5, diff: 6.6207733154296875.\n",
      "y_eval: 24.544158935546875, y_test: 16.799999237060547, diff: 7.744159698486328.\n",
      "y_eval: 24.73455810546875, y_test: 22.399999618530273, diff: 2.3345584869384766.\n",
      "y_eval: 24.918439865112305, y_test: 20.600000381469727, diff: 4.318439483642578.\n",
      "y_eval: 25.675243377685547, y_test: 23.899999618530273, diff: 1.7752437591552734.\n",
      "y_eval: 25.483720779418945, y_test: 22.0, diff: 3.4837207794189453.\n",
      "y_eval: 25.08957290649414, y_test: 11.899999618530273, diff: 13.189573287963867.\n"
     ]
    },
    {
     "name": "stderr",
     "output_type": "stream",
     "text": [
      "C:\\Users\\IMCK\\AppData\\Local\\Packages\\PythonSoftwareFoundation.Python.3.11_qbz5n2kfra8p0\\LocalCache\\local-packages\\Python311\\site-packages\\torch\\nn\\modules\\loss.py:535: UserWarning: Using a target size (torch.Size([100])) that is different to the input size (torch.Size([100, 1])). This will likely lead to incorrect results due to broadcasting. Please ensure they have the same size.\n",
      "  return F.mse_loss(input, target, reduction=self.reduction)\n"
     ]
    }
   ],
   "source": [
    "with torch.no_grad():\n",
    "    y_eval = model.forward(x_test)\n",
    "    loss = loss_func(y_eval, y_test)\n",
    "    print(loss)\n",
    "    for i in range(len(y_eval)):\n",
    "        print(f\"y_eval: {y_eval[i].item()}, y_test: {y_test[i]}, diff: {y_eval[i].item() - y_test[i]}.\")"
   ]
  },
  {
   "cell_type": "code",
   "execution_count": 103,
   "id": "2724cd32",
   "metadata": {},
   "outputs": [
    {
     "data": {
      "text/plain": [
       "OrderedDict([('linear.weight',\n",
       "              tensor([[-0.0562,  0.0157,  0.1136,  0.0469, -0.0328,  0.3560,  0.0294,  0.2753,\n",
       "                        0.0382,  0.0006,  0.2109,  0.0345, -0.0191]])),\n",
       "             ('linear.bias', tensor([0.3894]))])"
      ]
     },
     "execution_count": 103,
     "metadata": {},
     "output_type": "execute_result"
    }
   ],
   "source": [
    "model.state_dict()"
   ]
  },
  {
   "cell_type": "code",
   "execution_count": 104,
   "id": "debe713b",
   "metadata": {},
   "outputs": [],
   "source": [
    "def ridge_loss(output, target, modl, alpha):\n",
    "    mse_loss = nn.MSELoss()(output, target)\n",
    "    l2_reg = torch.tensor(0.)\n",
    "    for param in modl.parameters():\n",
    "        l2_reg += torch.norm(param)\n",
    "    return l2_reg + mse_loss + alpha\n",
    "\n",
    "model_ridge = LinearRegressionModel()\n",
    "optimizer_ridge = torch.optim.SGD(model_ridge.parameters(), lr = 0.01)"
   ]
  },
  {
   "cell_type": "code",
   "execution_count": 105,
   "id": "8d3d454c",
   "metadata": {},
   "outputs": [],
   "source": [
    "def lasso_loss(output, target, modl, alpha):\n",
    "    mse_loss = nn.MSELoss()(output, target)\n",
    "    l1_reg = torch.tensor(0.)\n",
    "    for param in modl.parameters():\n",
    "        l1_reg += torch.sum(torch.abs(param))\n",
    "    return mse_loss + alpha + l1_reg\n",
    "\n",
    "model_lasso = LinearRegressionModel()\n",
    "optimizer_lasso = torch.optim.SGD(model_lasso.parameters(), lr=0.01)"
   ]
  },
  {
   "cell_type": "code",
   "execution_count": 106,
   "id": "154b5854",
   "metadata": {},
   "outputs": [
    {
     "name": "stdout",
     "output_type": "stream",
     "text": [
      "Epoch: 100, loss: nan\n",
      "Epoch: 200, loss: nan\n",
      "Epoch: 300, loss: nan\n",
      "Epoch: 400, loss: nan\n",
      "Epoch: 500, loss: nan\n",
      "Epoch: 600, loss: nan\n",
      "Epoch: 700, loss: nan\n",
      "Epoch: 800, loss: nan\n",
      "Epoch: 900, loss: nan\n",
      "Epoch: 1000, loss: nan\n"
     ]
    }
   ],
   "source": [
    "epochs = 1000\n",
    "for i in range(epochs):\n",
    "    y_pred_ridge = model_ridge(x_train)\n",
    "\n",
    "    loss_ridge = ridge_loss(y_pred_ridge, y_train, model_ridge, 0.1)\n",
    "\n",
    "    if (i+1) % 100 == 0:\n",
    "        print(f\"Epoch: {i+1}, loss: {loss_ridge.item()}\")\n",
    "\n",
    "    optimizer_ridge.zero_grad()\n",
    "    loss_ridge.backward()\n",
    "    optimizer_ridge.step()\n"
   ]
  },
  {
   "cell_type": "code",
   "execution_count": 107,
   "id": "8d5dbd90",
   "metadata": {},
   "outputs": [
    {
     "name": "stdout",
     "output_type": "stream",
     "text": [
      "Epoch: 0, loss: 353.5484619140625\n",
      "Epoch: 100, loss: nan\n",
      "Epoch: 200, loss: nan\n",
      "Epoch: 300, loss: nan\n",
      "Epoch: 400, loss: nan\n",
      "Epoch: 500, loss: nan\n",
      "Epoch: 600, loss: nan\n",
      "Epoch: 700, loss: nan\n",
      "Epoch: 800, loss: nan\n",
      "Epoch: 900, loss: nan\n"
     ]
    }
   ],
   "source": [
    "epochs = 1000\n",
    "for epoch in range(epochs):\n",
    "    model_lasso.train()\n",
    "    y_pred = model_lasso(x_train)\n",
    "\n",
    "    loss_lasso = lasso_loss(y_pred, y_train, model_lasso, 0.1)\n",
    "\n",
    "    if epoch % 100 == 0:\n",
    "        print(f\"Epoch: {epoch}, loss: {loss_lasso.item()}\")\n",
    "\n",
    "    optimizer_lasso.zero_grad()\n",
    "    loss_lasso.backward()\n",
    "    optimizer_lasso.step()\n"
   ]
  },
  {
   "cell_type": "code",
   "execution_count": 109,
   "id": "42d3fa19",
   "metadata": {},
   "outputs": [
    {
     "name": "stdout",
     "output_type": "stream",
     "text": [
      "    Feature  Coefficient\n",
      "0      crim          NaN\n",
      "1        zn          NaN\n",
      "2     indus          NaN\n",
      "3      chas          NaN\n",
      "4       nox          NaN\n",
      "5        rm          NaN\n",
      "6       age          NaN\n",
      "7       dis          NaN\n",
      "8       rad          NaN\n",
      "9       tax          NaN\n",
      "10  ptratio          NaN\n",
      "11        b          NaN\n",
      "12    lstat          NaN\n"
     ]
    }
   ],
   "source": [
    "coefficients_ridge = model_ridge.linear.weight.detach().numpy().flatten()\n",
    "features = df.columns[:-1]  # All feature names\n",
    "\n",
    "importance_df_ridge = pd.DataFrame({'Feature': features, 'Coefficient': coefficients_ridge})\n",
    "importance_df_ridge = importance_df_ridge.sort_values(by='Coefficient', ascending=False)\n",
    "\n",
    "print(importance_df_ridge)"
   ]
  },
  {
   "cell_type": "code",
   "execution_count": 110,
   "id": "50f78381",
   "metadata": {},
   "outputs": [
    {
     "name": "stdout",
     "output_type": "stream",
     "text": [
      "Parameter containing:\n",
      "tensor([[nan, nan, nan, nan, nan, nan, nan, nan, nan, nan, nan, nan, nan]],\n",
      "       requires_grad=True)\n",
      "Parameter containing:\n",
      "tensor([nan], requires_grad=True)\n"
     ]
    }
   ],
   "source": [
    "for param in model_lasso.parameters():\n",
    "    print(param)"
   ]
  },
  {
   "cell_type": "code",
   "execution_count": null,
   "id": "57f83921",
   "metadata": {},
   "outputs": [],
   "source": []
  }
 ],
 "metadata": {
  "kernelspec": {
   "display_name": "Python 3",
   "language": "python",
   "name": "python3"
  },
  "language_info": {
   "codemirror_mode": {
    "name": "ipython",
    "version": 3
   },
   "file_extension": ".py",
   "mimetype": "text/x-python",
   "name": "python",
   "nbconvert_exporter": "python",
   "pygments_lexer": "ipython3",
   "version": "3.11.9"
  }
 },
 "nbformat": 4,
 "nbformat_minor": 5
}
