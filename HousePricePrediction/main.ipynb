{
 "cells": [
  {
   "cell_type": "code",
   "execution_count": 1,
   "id": "47f0054c-5a25-4070-be91-4c59f4ac8f3b",
   "metadata": {},
   "outputs": [],
   "source": [
    "import pandas as pd\n",
    "import torch\n",
    "import torch.nn as nn\n",
    "import torch.nn.functional as F"
   ]
  },
  {
   "cell_type": "code",
   "execution_count": 2,
   "id": "f9146490-af57-45fb-85a9-8b560db1e5d2",
   "metadata": {},
   "outputs": [
    {
     "data": {
      "text/html": [
       "<div>\n",
       "<style scoped>\n",
       "    .dataframe tbody tr th:only-of-type {\n",
       "        vertical-align: middle;\n",
       "    }\n",
       "\n",
       "    .dataframe tbody tr th {\n",
       "        vertical-align: top;\n",
       "    }\n",
       "\n",
       "    .dataframe thead th {\n",
       "        text-align: right;\n",
       "    }\n",
       "</style>\n",
       "<table border=\"1\" class=\"dataframe\">\n",
       "  <thead>\n",
       "    <tr style=\"text-align: right;\">\n",
       "      <th></th>\n",
       "      <th>crim</th>\n",
       "      <th>zn</th>\n",
       "      <th>indus</th>\n",
       "      <th>chas</th>\n",
       "      <th>nox</th>\n",
       "      <th>rm</th>\n",
       "      <th>age</th>\n",
       "      <th>dis</th>\n",
       "      <th>rad</th>\n",
       "      <th>tax</th>\n",
       "      <th>ptratio</th>\n",
       "      <th>b</th>\n",
       "      <th>lstat</th>\n",
       "      <th>medv</th>\n",
       "    </tr>\n",
       "  </thead>\n",
       "  <tbody>\n",
       "    <tr>\n",
       "      <th>0</th>\n",
       "      <td>0.00632</td>\n",
       "      <td>18.0</td>\n",
       "      <td>2.31</td>\n",
       "      <td>0</td>\n",
       "      <td>0.538</td>\n",
       "      <td>6.575</td>\n",
       "      <td>65.2</td>\n",
       "      <td>4.0900</td>\n",
       "      <td>1</td>\n",
       "      <td>296</td>\n",
       "      <td>15.3</td>\n",
       "      <td>396.90</td>\n",
       "      <td>4.98</td>\n",
       "      <td>24.0</td>\n",
       "    </tr>\n",
       "    <tr>\n",
       "      <th>1</th>\n",
       "      <td>0.02731</td>\n",
       "      <td>0.0</td>\n",
       "      <td>7.07</td>\n",
       "      <td>0</td>\n",
       "      <td>0.469</td>\n",
       "      <td>6.421</td>\n",
       "      <td>78.9</td>\n",
       "      <td>4.9671</td>\n",
       "      <td>2</td>\n",
       "      <td>242</td>\n",
       "      <td>17.8</td>\n",
       "      <td>396.90</td>\n",
       "      <td>9.14</td>\n",
       "      <td>21.6</td>\n",
       "    </tr>\n",
       "    <tr>\n",
       "      <th>2</th>\n",
       "      <td>0.02729</td>\n",
       "      <td>0.0</td>\n",
       "      <td>7.07</td>\n",
       "      <td>0</td>\n",
       "      <td>0.469</td>\n",
       "      <td>7.185</td>\n",
       "      <td>61.1</td>\n",
       "      <td>4.9671</td>\n",
       "      <td>2</td>\n",
       "      <td>242</td>\n",
       "      <td>17.8</td>\n",
       "      <td>392.83</td>\n",
       "      <td>4.03</td>\n",
       "      <td>34.7</td>\n",
       "    </tr>\n",
       "    <tr>\n",
       "      <th>3</th>\n",
       "      <td>0.03237</td>\n",
       "      <td>0.0</td>\n",
       "      <td>2.18</td>\n",
       "      <td>0</td>\n",
       "      <td>0.458</td>\n",
       "      <td>6.998</td>\n",
       "      <td>45.8</td>\n",
       "      <td>6.0622</td>\n",
       "      <td>3</td>\n",
       "      <td>222</td>\n",
       "      <td>18.7</td>\n",
       "      <td>394.63</td>\n",
       "      <td>2.94</td>\n",
       "      <td>33.4</td>\n",
       "    </tr>\n",
       "    <tr>\n",
       "      <th>4</th>\n",
       "      <td>0.06905</td>\n",
       "      <td>0.0</td>\n",
       "      <td>2.18</td>\n",
       "      <td>0</td>\n",
       "      <td>0.458</td>\n",
       "      <td>7.147</td>\n",
       "      <td>54.2</td>\n",
       "      <td>6.0622</td>\n",
       "      <td>3</td>\n",
       "      <td>222</td>\n",
       "      <td>18.7</td>\n",
       "      <td>396.90</td>\n",
       "      <td>5.33</td>\n",
       "      <td>36.2</td>\n",
       "    </tr>\n",
       "    <tr>\n",
       "      <th>...</th>\n",
       "      <td>...</td>\n",
       "      <td>...</td>\n",
       "      <td>...</td>\n",
       "      <td>...</td>\n",
       "      <td>...</td>\n",
       "      <td>...</td>\n",
       "      <td>...</td>\n",
       "      <td>...</td>\n",
       "      <td>...</td>\n",
       "      <td>...</td>\n",
       "      <td>...</td>\n",
       "      <td>...</td>\n",
       "      <td>...</td>\n",
       "      <td>...</td>\n",
       "    </tr>\n",
       "    <tr>\n",
       "      <th>501</th>\n",
       "      <td>0.06263</td>\n",
       "      <td>0.0</td>\n",
       "      <td>11.93</td>\n",
       "      <td>0</td>\n",
       "      <td>0.573</td>\n",
       "      <td>6.593</td>\n",
       "      <td>69.1</td>\n",
       "      <td>2.4786</td>\n",
       "      <td>1</td>\n",
       "      <td>273</td>\n",
       "      <td>21.0</td>\n",
       "      <td>391.99</td>\n",
       "      <td>9.67</td>\n",
       "      <td>22.4</td>\n",
       "    </tr>\n",
       "    <tr>\n",
       "      <th>502</th>\n",
       "      <td>0.04527</td>\n",
       "      <td>0.0</td>\n",
       "      <td>11.93</td>\n",
       "      <td>0</td>\n",
       "      <td>0.573</td>\n",
       "      <td>6.120</td>\n",
       "      <td>76.7</td>\n",
       "      <td>2.2875</td>\n",
       "      <td>1</td>\n",
       "      <td>273</td>\n",
       "      <td>21.0</td>\n",
       "      <td>396.90</td>\n",
       "      <td>9.08</td>\n",
       "      <td>20.6</td>\n",
       "    </tr>\n",
       "    <tr>\n",
       "      <th>503</th>\n",
       "      <td>0.06076</td>\n",
       "      <td>0.0</td>\n",
       "      <td>11.93</td>\n",
       "      <td>0</td>\n",
       "      <td>0.573</td>\n",
       "      <td>6.976</td>\n",
       "      <td>91.0</td>\n",
       "      <td>2.1675</td>\n",
       "      <td>1</td>\n",
       "      <td>273</td>\n",
       "      <td>21.0</td>\n",
       "      <td>396.90</td>\n",
       "      <td>5.64</td>\n",
       "      <td>23.9</td>\n",
       "    </tr>\n",
       "    <tr>\n",
       "      <th>504</th>\n",
       "      <td>0.10959</td>\n",
       "      <td>0.0</td>\n",
       "      <td>11.93</td>\n",
       "      <td>0</td>\n",
       "      <td>0.573</td>\n",
       "      <td>6.794</td>\n",
       "      <td>89.3</td>\n",
       "      <td>2.3889</td>\n",
       "      <td>1</td>\n",
       "      <td>273</td>\n",
       "      <td>21.0</td>\n",
       "      <td>393.45</td>\n",
       "      <td>6.48</td>\n",
       "      <td>22.0</td>\n",
       "    </tr>\n",
       "    <tr>\n",
       "      <th>505</th>\n",
       "      <td>0.04741</td>\n",
       "      <td>0.0</td>\n",
       "      <td>11.93</td>\n",
       "      <td>0</td>\n",
       "      <td>0.573</td>\n",
       "      <td>6.030</td>\n",
       "      <td>80.8</td>\n",
       "      <td>2.5050</td>\n",
       "      <td>1</td>\n",
       "      <td>273</td>\n",
       "      <td>21.0</td>\n",
       "      <td>396.90</td>\n",
       "      <td>7.88</td>\n",
       "      <td>11.9</td>\n",
       "    </tr>\n",
       "  </tbody>\n",
       "</table>\n",
       "<p>506 rows × 14 columns</p>\n",
       "</div>"
      ],
      "text/plain": [
       "        crim    zn  indus  chas    nox     rm   age     dis  rad  tax  \\\n",
       "0    0.00632  18.0   2.31     0  0.538  6.575  65.2  4.0900    1  296   \n",
       "1    0.02731   0.0   7.07     0  0.469  6.421  78.9  4.9671    2  242   \n",
       "2    0.02729   0.0   7.07     0  0.469  7.185  61.1  4.9671    2  242   \n",
       "3    0.03237   0.0   2.18     0  0.458  6.998  45.8  6.0622    3  222   \n",
       "4    0.06905   0.0   2.18     0  0.458  7.147  54.2  6.0622    3  222   \n",
       "..       ...   ...    ...   ...    ...    ...   ...     ...  ...  ...   \n",
       "501  0.06263   0.0  11.93     0  0.573  6.593  69.1  2.4786    1  273   \n",
       "502  0.04527   0.0  11.93     0  0.573  6.120  76.7  2.2875    1  273   \n",
       "503  0.06076   0.0  11.93     0  0.573  6.976  91.0  2.1675    1  273   \n",
       "504  0.10959   0.0  11.93     0  0.573  6.794  89.3  2.3889    1  273   \n",
       "505  0.04741   0.0  11.93     0  0.573  6.030  80.8  2.5050    1  273   \n",
       "\n",
       "     ptratio       b  lstat  medv  \n",
       "0       15.3  396.90   4.98  24.0  \n",
       "1       17.8  396.90   9.14  21.6  \n",
       "2       17.8  392.83   4.03  34.7  \n",
       "3       18.7  394.63   2.94  33.4  \n",
       "4       18.7  396.90   5.33  36.2  \n",
       "..       ...     ...    ...   ...  \n",
       "501     21.0  391.99   9.67  22.4  \n",
       "502     21.0  396.90   9.08  20.6  \n",
       "503     21.0  396.90   5.64  23.9  \n",
       "504     21.0  393.45   6.48  22.0  \n",
       "505     21.0  396.90   7.88  11.9  \n",
       "\n",
       "[506 rows x 14 columns]"
      ]
     },
     "execution_count": 2,
     "metadata": {},
     "output_type": "execute_result"
    }
   ],
   "source": [
    "df = pd.read_csv(\"BostonHousing.csv\")\n",
    "df"
   ]
  },
  {
   "cell_type": "code",
   "execution_count": 3,
   "id": "4c0704c8-33bb-4a5e-a8c2-09f50349e883",
   "metadata": {},
   "outputs": [],
   "source": [
    "x = df.drop('medv', axis=1)\n",
    "y = df['medv']"
   ]
  },
  {
   "cell_type": "code",
   "execution_count": 4,
   "id": "e33bfa36",
   "metadata": {},
   "outputs": [
    {
     "data": {
      "text/plain": [
       "0      24.0\n",
       "1      21.6\n",
       "2      34.7\n",
       "3      33.4\n",
       "4      36.2\n",
       "       ... \n",
       "501    22.4\n",
       "502    20.6\n",
       "503    23.9\n",
       "504    22.0\n",
       "505    11.9\n",
       "Name: medv, Length: 506, dtype: float64"
      ]
     },
     "execution_count": 4,
     "metadata": {},
     "output_type": "execute_result"
    }
   ],
   "source": [
    "y"
   ]
  },
  {
   "cell_type": "code",
   "execution_count": 5,
   "id": "7d9c09b7",
   "metadata": {},
   "outputs": [],
   "source": [
    "x = x.values"
   ]
  },
  {
   "cell_type": "code",
   "execution_count": 6,
   "id": "1a647b99",
   "metadata": {},
   "outputs": [],
   "source": [
    "y = y.values"
   ]
  },
  {
   "cell_type": "code",
   "execution_count": 7,
   "id": "abefe07d",
   "metadata": {},
   "outputs": [
    {
     "data": {
      "text/plain": [
       "array([24. , 21.6, 34.7, 33.4, 36.2, 28.7, 22.9, 27.1, 16.5, 18.9, 15. ,\n",
       "       18.9, 21.7, 20.4, 18.2, 19.9, 23.1, 17.5, 20.2, 18.2, 13.6, 19.6,\n",
       "       15.2, 14.5, 15.6, 13.9, 16.6, 14.8, 18.4, 21. , 12.7, 14.5, 13.2,\n",
       "       13.1, 13.5, 18.9, 20. , 21. , 24.7, 30.8, 34.9, 26.6, 25.3, 24.7,\n",
       "       21.2, 19.3, 20. , 16.6, 14.4, 19.4, 19.7, 20.5, 25. , 23.4, 18.9,\n",
       "       35.4, 24.7, 31.6, 23.3, 19.6, 18.7, 16. , 22.2, 25. , 33. , 23.5,\n",
       "       19.4, 22. , 17.4, 20.9, 24.2, 21.7, 22.8, 23.4, 24.1, 21.4, 20. ,\n",
       "       20.8, 21.2, 20.3, 28. , 23.9, 24.8, 22.9, 23.9, 26.6, 22.5, 22.2,\n",
       "       23.6, 28.7, 22.6, 22. , 22.9, 25. , 20.6, 28.4, 21.4, 38.7, 43.8,\n",
       "       33.2, 27.5, 26.5, 18.6, 19.3, 20.1, 19.5, 19.5, 20.4, 19.8, 19.4,\n",
       "       21.7, 22.8, 18.8, 18.7, 18.5, 18.3, 21.2, 19.2, 20.4, 19.3, 22. ,\n",
       "       20.3, 20.5, 17.3, 18.8, 21.4, 15.7, 16.2, 18. , 14.3, 19.2, 19.6,\n",
       "       23. , 18.4, 15.6, 18.1, 17.4, 17.1, 13.3, 17.8, 14. , 14.4, 13.4,\n",
       "       15.6, 11.8, 13.8, 15.6, 14.6, 17.8, 15.4, 21.5, 19.6, 15.3, 19.4,\n",
       "       17. , 15.6, 13.1, 41.3, 24.3, 23.3, 27. , 50. , 50. , 50. , 22.7,\n",
       "       25. , 50. , 23.8, 23.8, 22.3, 17.4, 19.1, 23.1, 23.6, 22.6, 29.4,\n",
       "       23.2, 24.6, 29.9, 37.2, 39.8, 36.2, 37.9, 32.5, 26.4, 29.6, 50. ,\n",
       "       32. , 29.8, 34.9, 37. , 30.5, 36.4, 31.1, 29.1, 50. , 33.3, 30.3,\n",
       "       34.6, 34.9, 32.9, 24.1, 42.3, 48.5, 50. , 22.6, 24.4, 22.5, 24.4,\n",
       "       20. , 21.7, 19.3, 22.4, 28.1, 23.7, 25. , 23.3, 28.7, 21.5, 23. ,\n",
       "       26.7, 21.7, 27.5, 30.1, 44.8, 50. , 37.6, 31.6, 46.7, 31.5, 24.3,\n",
       "       31.7, 41.7, 48.3, 29. , 24. , 25.1, 31.5, 23.7, 23.3, 22. , 20.1,\n",
       "       22.2, 23.7, 17.6, 18.5, 24.3, 20.5, 24.5, 26.2, 24.4, 24.8, 29.6,\n",
       "       42.8, 21.9, 20.9, 44. , 50. , 36. , 30.1, 33.8, 43.1, 48.8, 31. ,\n",
       "       36.5, 22.8, 30.7, 50. , 43.5, 20.7, 21.1, 25.2, 24.4, 35.2, 32.4,\n",
       "       32. , 33.2, 33.1, 29.1, 35.1, 45.4, 35.4, 46. , 50. , 32.2, 22. ,\n",
       "       20.1, 23.2, 22.3, 24.8, 28.5, 37.3, 27.9, 23.9, 21.7, 28.6, 27.1,\n",
       "       20.3, 22.5, 29. , 24.8, 22. , 26.4, 33.1, 36.1, 28.4, 33.4, 28.2,\n",
       "       22.8, 20.3, 16.1, 22.1, 19.4, 21.6, 23.8, 16.2, 17.8, 19.8, 23.1,\n",
       "       21. , 23.8, 23.1, 20.4, 18.5, 25. , 24.6, 23. , 22.2, 19.3, 22.6,\n",
       "       19.8, 17.1, 19.4, 22.2, 20.7, 21.1, 19.5, 18.5, 20.6, 19. , 18.7,\n",
       "       32.7, 16.5, 23.9, 31.2, 17.5, 17.2, 23.1, 24.5, 26.6, 22.9, 24.1,\n",
       "       18.6, 30.1, 18.2, 20.6, 17.8, 21.7, 22.7, 22.6, 25. , 19.9, 20.8,\n",
       "       16.8, 21.9, 27.5, 21.9, 23.1, 50. , 50. , 50. , 50. , 50. , 13.8,\n",
       "       13.8, 15. , 13.9, 13.3, 13.1, 10.2, 10.4, 10.9, 11.3, 12.3,  8.8,\n",
       "        7.2, 10.5,  7.4, 10.2, 11.5, 15.1, 23.2,  9.7, 13.8, 12.7, 13.1,\n",
       "       12.5,  8.5,  5. ,  6.3,  5.6,  7.2, 12.1,  8.3,  8.5,  5. , 11.9,\n",
       "       27.9, 17.2, 27.5, 15. , 17.2, 17.9, 16.3,  7. ,  7.2,  7.5, 10.4,\n",
       "        8.8,  8.4, 16.7, 14.2, 20.8, 13.4, 11.7,  8.3, 10.2, 10.9, 11. ,\n",
       "        9.5, 14.5, 14.1, 16.1, 14.3, 11.7, 13.4,  9.6,  8.7,  8.4, 12.8,\n",
       "       10.5, 17.1, 18.4, 15.4, 10.8, 11.8, 14.9, 12.6, 14.1, 13. , 13.4,\n",
       "       15.2, 16.1, 17.8, 14.9, 14.1, 12.7, 13.5, 14.9, 20. , 16.4, 17.7,\n",
       "       19.5, 20.2, 21.4, 19.9, 19. , 19.1, 19.1, 20.1, 19.9, 19.6, 23.2,\n",
       "       29.8, 13.8, 13.3, 16.7, 12. , 14.6, 21.4, 23. , 23.7, 25. , 21.8,\n",
       "       20.6, 21.2, 19.1, 20.6, 15.2,  7. ,  8.1, 13.6, 20.1, 21.8, 24.5,\n",
       "       23.1, 19.7, 18.3, 21.2, 17.5, 16.8, 22.4, 20.6, 23.9, 22. , 11.9])"
      ]
     },
     "execution_count": 7,
     "metadata": {},
     "output_type": "execute_result"
    }
   ],
   "source": [
    "y"
   ]
  },
  {
   "cell_type": "code",
   "execution_count": 8,
   "id": "abadea0b",
   "metadata": {},
   "outputs": [
    {
     "data": {
      "text/plain": [
       "array([[6.3200e-03, 1.8000e+01, 2.3100e+00, ..., 1.5300e+01, 3.9690e+02,\n",
       "        4.9800e+00],\n",
       "       [2.7310e-02, 0.0000e+00, 7.0700e+00, ..., 1.7800e+01, 3.9690e+02,\n",
       "        9.1400e+00],\n",
       "       [2.7290e-02, 0.0000e+00, 7.0700e+00, ..., 1.7800e+01, 3.9283e+02,\n",
       "        4.0300e+00],\n",
       "       ...,\n",
       "       [6.0760e-02, 0.0000e+00, 1.1930e+01, ..., 2.1000e+01, 3.9690e+02,\n",
       "        5.6400e+00],\n",
       "       [1.0959e-01, 0.0000e+00, 1.1930e+01, ..., 2.1000e+01, 3.9345e+02,\n",
       "        6.4800e+00],\n",
       "       [4.7410e-02, 0.0000e+00, 1.1930e+01, ..., 2.1000e+01, 3.9690e+02,\n",
       "        7.8800e+00]])"
      ]
     },
     "execution_count": 8,
     "metadata": {},
     "output_type": "execute_result"
    }
   ],
   "source": [
    "x"
   ]
  },
  {
   "cell_type": "code",
   "execution_count": 9,
   "id": "9ec7fa08",
   "metadata": {},
   "outputs": [
    {
     "data": {
      "text/plain": [
       "(506, 13)"
      ]
     },
     "execution_count": 9,
     "metadata": {},
     "output_type": "execute_result"
    }
   ],
   "source": [
    "x.shape"
   ]
  },
  {
   "cell_type": "code",
   "execution_count": 10,
   "id": "e1c1ea95",
   "metadata": {},
   "outputs": [],
   "source": [
    "x_train = x[0:405, :]\n",
    "x_test = x[406::, :]"
   ]
  },
  {
   "cell_type": "code",
   "execution_count": 11,
   "id": "dbda1fda",
   "metadata": {},
   "outputs": [
    {
     "data": {
      "text/plain": [
       "((405, 13), (100, 13))"
      ]
     },
     "execution_count": 11,
     "metadata": {},
     "output_type": "execute_result"
    }
   ],
   "source": [
    "x_train.shape, x_test.shape"
   ]
  },
  {
   "cell_type": "code",
   "execution_count": 12,
   "id": "2dda2bd9",
   "metadata": {},
   "outputs": [
    {
     "data": {
      "text/plain": [
       "(506,)"
      ]
     },
     "execution_count": 12,
     "metadata": {},
     "output_type": "execute_result"
    }
   ],
   "source": [
    "y.shape"
   ]
  },
  {
   "cell_type": "code",
   "execution_count": 13,
   "id": "d3713b12",
   "metadata": {},
   "outputs": [],
   "source": [
    "y_train = y[0:405]\n",
    "y_test = y[406::]"
   ]
  },
  {
   "cell_type": "code",
   "execution_count": 14,
   "id": "dd716b26",
   "metadata": {},
   "outputs": [
    {
     "data": {
      "text/plain": [
       "((405,), (100,))"
      ]
     },
     "execution_count": 14,
     "metadata": {},
     "output_type": "execute_result"
    }
   ],
   "source": [
    "y_train.shape, y_test.shape"
   ]
  },
  {
   "cell_type": "code",
   "execution_count": 15,
   "id": "3d63ad9a",
   "metadata": {},
   "outputs": [],
   "source": [
    "x_test = torch.FloatTensor(x_test)\n",
    "x_train = torch.FloatTensor(x_train)\n",
    "y_test = torch.FloatTensor(y_test)\n",
    "y_train = torch.FloatTensor(y_train)"
   ]
  },
  {
   "cell_type": "code",
   "execution_count": 16,
   "id": "4b2105a9",
   "metadata": {},
   "outputs": [],
   "source": [
    "class LinearRegressionModel(nn.Module):\n",
    "    def __init__(self, in_features = 13, out_features=1):\n",
    "        super().__init__()\n",
    "        self.func = nn.Linear(in_features, out_features)\n",
    "\n",
    "    def forward(self, x):\n",
    "        out = self.func(x)\n",
    "\n",
    "        return out"
   ]
  },
  {
   "cell_type": "code",
   "execution_count": 17,
   "id": "52b80626",
   "metadata": {},
   "outputs": [],
   "source": [
    "model = LinearRegressionModel()"
   ]
  },
  {
   "cell_type": "code",
   "execution_count": 18,
   "id": "bc6eea4d",
   "metadata": {},
   "outputs": [
    {
     "data": {
      "text/plain": [
       "<generator object Module.parameters at 0x00000172DE9E9540>"
      ]
     },
     "execution_count": 18,
     "metadata": {},
     "output_type": "execute_result"
    }
   ],
   "source": [
    "model.parameters()"
   ]
  },
  {
   "cell_type": "code",
   "execution_count": 19,
   "id": "41e82eaa",
   "metadata": {},
   "outputs": [],
   "source": [
    "loss_func = nn.MSELoss()\n",
    "optimizer = torch.optim.Adam(model.parameters(), lr=0.01)"
   ]
  },
  {
   "cell_type": "code",
   "execution_count": 46,
   "id": "6d00bd06",
   "metadata": {},
   "outputs": [
    {
     "name": "stderr",
     "output_type": "stream",
     "text": [
      "C:\\Users\\IMCK\\AppData\\Local\\Packages\\PythonSoftwareFoundation.Python.3.11_qbz5n2kfra8p0\\LocalCache\\local-packages\\Python311\\site-packages\\torch\\nn\\modules\\loss.py:535: UserWarning: Using a target size (torch.Size([405])) that is different to the input size (torch.Size([405, 1])). This will likely lead to incorrect results due to broadcasting. Please ensure they have the same size.\n",
      "  return F.mse_loss(input, target, reduction=self.reduction)\n"
     ]
    },
    {
     "name": "stdout",
     "output_type": "stream",
     "text": [
      "Epoch: 99, loss: 86.13816833496094\n",
      "Epoch: 199, loss: 86.13518524169922\n",
      "Epoch: 299, loss: 86.13306427001953\n",
      "Epoch: 399, loss: 86.1319580078125\n",
      "Epoch: 499, loss: 86.12906646728516\n",
      "Epoch: 599, loss: 86.12701416015625\n",
      "Epoch: 699, loss: 86.12591552734375\n",
      "Epoch: 799, loss: 86.12313842773438\n",
      "Epoch: 899, loss: 86.12115478515625\n",
      "Epoch: 999, loss: 86.119384765625\n"
     ]
    }
   ],
   "source": [
    "epochs = 1000\n",
    "losses = []\n",
    "\n",
    "for epoch in range(epochs):\n",
    "    y_pred = model.forward(x_train)\n",
    "    \n",
    "    loss = loss_func(y_pred, y_train)\n",
    "\n",
    "    losses.append(loss.detach())\n",
    "\n",
    "    if (epoch+1)%100 == 0:\n",
    "        print(f\"Epoch: {epoch}, loss: {loss}\")\n",
    "\n",
    "    optimizer.zero_grad()\n",
    "    loss.backward()\n",
    "    optimizer.step()"
   ]
  },
  {
   "cell_type": "code",
   "execution_count": 30,
   "id": "4c72cf6c",
   "metadata": {},
   "outputs": [
    {
     "data": {
      "text/plain": [
       "(torch.Size([405, 1]), torch.Size([405]))"
      ]
     },
     "execution_count": 30,
     "metadata": {},
     "output_type": "execute_result"
    }
   ],
   "source": [
    "y_pred.shape, y_train.shape"
   ]
  },
  {
   "cell_type": "code",
   "execution_count": 49,
   "id": "aa142a27",
   "metadata": {},
   "outputs": [
    {
     "name": "stdout",
     "output_type": "stream",
     "text": [
      "tensor(83.3255)\n",
      "y_eval: 23.135038375854492, y_test: 11.899999618530273, diff: 11.235038757324219.\n",
      "y_eval: 23.479755401611328, y_test: 27.899999618530273, diff: -4.420244216918945.\n",
      "y_eval: 23.43877410888672, y_test: 17.200000762939453, diff: 6.238773345947266.\n",
      "y_eval: 23.25578498840332, y_test: 27.5, diff: -4.24421501159668.\n",
      "y_eval: 21.564077377319336, y_test: 15.0, diff: 6.564077377319336.\n",
      "y_eval: 22.56290626525879, y_test: 17.200000762939453, diff: 5.362905502319336.\n",
      "y_eval: 21.827465057373047, y_test: 17.899999618530273, diff: 3.9274654388427734.\n",
      "y_eval: 22.535839080810547, y_test: 16.299999237060547, diff: 6.23583984375.\n",
      "y_eval: 22.518539428710938, y_test: 7.0, diff: 15.518539428710938.\n",
      "y_eval: 23.063112258911133, y_test: 7.199999809265137, diff: 15.863112449645996.\n",
      "y_eval: 23.19236183166504, y_test: 7.5, diff: 15.692361831665039.\n",
      "y_eval: 22.882774353027344, y_test: 10.399999618530273, diff: 12.48277473449707.\n",
      "y_eval: 22.36058235168457, y_test: 8.800000190734863, diff: 13.560582160949707.\n",
      "y_eval: 23.51448631286621, y_test: 8.399999618530273, diff: 15.114486694335938.\n",
      "y_eval: 24.274539947509766, y_test: 16.700000762939453, diff: 7.5745391845703125.\n",
      "y_eval: 24.13288688659668, y_test: 14.199999809265137, diff: 9.932887077331543.\n",
      "y_eval: 23.24884605407715, y_test: 20.799999237060547, diff: 2.4488468170166016.\n",
      "y_eval: 22.431610107421875, y_test: 13.399999618530273, diff: 9.031610488891602.\n",
      "y_eval: 21.921783447265625, y_test: 11.699999809265137, diff: 10.221783638000488.\n",
      "y_eval: 22.644983291625977, y_test: 8.300000190734863, diff: 14.344983100891113.\n",
      "y_eval: 22.126983642578125, y_test: 10.199999809265137, diff: 11.926983833312988.\n",
      "y_eval: 22.58055305480957, y_test: 10.899999618530273, diff: 11.680553436279297.\n",
      "y_eval: 23.215757369995117, y_test: 11.0, diff: 12.215757369995117.\n",
      "y_eval: 23.14266586303711, y_test: 9.5, diff: 13.64266586303711.\n",
      "y_eval: 22.61570930480957, y_test: 14.5, diff: 8.11570930480957.\n",
      "y_eval: 22.85900115966797, y_test: 14.100000381469727, diff: 8.759000778198242.\n",
      "y_eval: 22.657251358032227, y_test: 16.100000381469727, diff: 6.5572509765625.\n",
      "y_eval: 23.440275192260742, y_test: 14.300000190734863, diff: 9.140275001525879.\n",
      "y_eval: 23.237592697143555, y_test: 11.699999809265137, diff: 11.537592887878418.\n",
      "y_eval: 23.81017303466797, y_test: 13.399999618530273, diff: 10.410173416137695.\n",
      "y_eval: 23.220888137817383, y_test: 9.600000381469727, diff: 13.620887756347656.\n",
      "y_eval: 23.141176223754883, y_test: 8.699999809265137, diff: 14.441176414489746.\n",
      "y_eval: 23.503305435180664, y_test: 8.399999618530273, diff: 15.10330581665039.\n",
      "y_eval: 24.55691146850586, y_test: 12.800000190734863, diff: 11.756911277770996.\n",
      "y_eval: 24.56723403930664, y_test: 10.5, diff: 14.06723403930664.\n",
      "y_eval: 24.83234214782715, y_test: 17.100000381469727, diff: 7.732341766357422.\n",
      "y_eval: 24.71869659423828, y_test: 18.399999618530273, diff: 6.318696975708008.\n",
      "y_eval: 24.8373966217041, y_test: 15.399999618530273, diff: 9.437397003173828.\n",
      "y_eval: 23.981168746948242, y_test: 10.800000190734863, diff: 13.181168556213379.\n",
      "y_eval: 23.430339813232422, y_test: 11.800000190734863, diff: 11.630339622497559.\n",
      "y_eval: 24.47840118408203, y_test: 14.899999618530273, diff: 9.578401565551758.\n",
      "y_eval: 24.718297958374023, y_test: 12.600000381469727, diff: 12.118297576904297.\n",
      "y_eval: 24.619108200073242, y_test: 14.100000381469727, diff: 10.519107818603516.\n",
      "y_eval: 24.345613479614258, y_test: 13.0, diff: 11.345613479614258.\n",
      "y_eval: 23.15741539001465, y_test: 13.399999618530273, diff: 9.757415771484375.\n",
      "y_eval: 24.684104919433594, y_test: 15.199999809265137, diff: 9.484105110168457.\n",
      "y_eval: 24.65635871887207, y_test: 16.100000381469727, diff: 8.556358337402344.\n",
      "y_eval: 25.109472274780273, y_test: 17.799999237060547, diff: 7.309473037719727.\n",
      "y_eval: 23.21025276184082, y_test: 14.899999618530273, diff: 8.310253143310547.\n",
      "y_eval: 23.331674575805664, y_test: 14.100000381469727, diff: 9.231674194335938.\n",
      "y_eval: 22.920246124267578, y_test: 12.699999809265137, diff: 10.220246315002441.\n",
      "y_eval: 22.860309600830078, y_test: 13.5, diff: 9.360309600830078.\n",
      "y_eval: 24.20504379272461, y_test: 14.899999618530273, diff: 9.305044174194336.\n",
      "y_eval: 24.610021591186523, y_test: 20.0, diff: 4.610021591186523.\n",
      "y_eval: 24.29505157470703, y_test: 16.399999618530273, diff: 7.895051956176758.\n",
      "y_eval: 24.707670211791992, y_test: 17.700000762939453, diff: 7.007669448852539.\n",
      "y_eval: 24.716249465942383, y_test: 19.5, diff: 5.216249465942383.\n",
      "y_eval: 24.70468521118164, y_test: 20.200000762939453, diff: 4.5046844482421875.\n",
      "y_eval: 24.416122436523438, y_test: 21.399999618530273, diff: 3.016122817993164.\n",
      "y_eval: 24.030332565307617, y_test: 19.899999618530273, diff: 4.130332946777344.\n",
      "y_eval: 22.657127380371094, y_test: 19.0, diff: 3.6571273803710938.\n",
      "y_eval: 23.684045791625977, y_test: 19.100000381469727, diff: 4.58404541015625.\n",
      "y_eval: 23.79981231689453, y_test: 19.100000381469727, diff: 4.699811935424805.\n",
      "y_eval: 23.79204750061035, y_test: 20.100000381469727, diff: 3.692047119140625.\n",
      "y_eval: 24.021032333374023, y_test: 19.899999618530273, diff: 4.12103271484375.\n",
      "y_eval: 23.69585609436035, y_test: 19.600000381469727, diff: 4.095855712890625.\n",
      "y_eval: 24.108013153076172, y_test: 23.200000762939453, diff: 0.9080123901367188.\n",
      "y_eval: 24.3840274810791, y_test: 29.799999237060547, diff: -5.415971755981445.\n",
      "y_eval: 23.394790649414062, y_test: 13.800000190734863, diff: 9.5947904586792.\n",
      "y_eval: 23.63474464416504, y_test: 13.300000190734863, diff: 10.334744453430176.\n",
      "y_eval: 24.27887535095215, y_test: 16.700000762939453, diff: 7.578874588012695.\n",
      "y_eval: 23.556232452392578, y_test: 12.0, diff: 11.556232452392578.\n",
      "y_eval: 23.995460510253906, y_test: 14.600000381469727, diff: 9.39546012878418.\n",
      "y_eval: 23.9052791595459, y_test: 21.399999618530273, diff: 2.505279541015625.\n",
      "y_eval: 23.782873153686523, y_test: 23.0, diff: 0.7828731536865234.\n",
      "y_eval: 23.900136947631836, y_test: 23.700000762939453, diff: 0.2001361846923828.\n",
      "y_eval: 24.04817008972168, y_test: 25.0, diff: -0.9518299102783203.\n",
      "y_eval: 23.707317352294922, y_test: 21.799999237060547, diff: 1.907318115234375.\n",
      "y_eval: 23.949981689453125, y_test: 20.600000381469727, diff: 3.3499813079833984.\n",
      "y_eval: 24.179128646850586, y_test: 21.200000762939453, diff: 2.979127883911133.\n",
      "y_eval: 24.03989601135254, y_test: 19.100000381469727, diff: 4.9398956298828125.\n",
      "y_eval: 23.878379821777344, y_test: 20.600000381469727, diff: 3.278379440307617.\n",
      "y_eval: 24.397441864013672, y_test: 15.199999809265137, diff: 9.197442054748535.\n",
      "y_eval: 24.25653648376465, y_test: 7.0, diff: 17.25653648376465.\n",
      "y_eval: 24.124528884887695, y_test: 8.100000381469727, diff: 16.02452850341797.\n",
      "y_eval: 24.618940353393555, y_test: 13.600000381469727, diff: 11.018939971923828.\n",
      "y_eval: 24.62594985961914, y_test: 20.100000381469727, diff: 4.525949478149414.\n",
      "y_eval: 24.22808074951172, y_test: 21.799999237060547, diff: 2.428081512451172.\n",
      "y_eval: 24.406919479370117, y_test: 24.5, diff: -0.09308052062988281.\n",
      "y_eval: 24.457561492919922, y_test: 23.100000381469727, diff: 1.3575611114501953.\n",
      "y_eval: 24.27111053466797, y_test: 19.700000762939453, diff: 4.571109771728516.\n",
      "y_eval: 24.33001708984375, y_test: 18.299999237060547, diff: 6.030017852783203.\n",
      "y_eval: 24.366178512573242, y_test: 21.200000762939453, diff: 3.166177749633789.\n",
      "y_eval: 24.163373947143555, y_test: 17.5, diff: 6.663373947143555.\n",
      "y_eval: 24.36611557006836, y_test: 16.799999237060547, diff: 7.5661163330078125.\n",
      "y_eval: 24.808002471923828, y_test: 22.399999618530273, diff: 2.4080028533935547.\n",
      "y_eval: 24.536434173583984, y_test: 20.600000381469727, diff: 3.936433792114258.\n",
      "y_eval: 24.81220054626465, y_test: 23.899999618530273, diff: 0.912200927734375.\n",
      "y_eval: 24.76211166381836, y_test: 22.0, diff: 2.7621116638183594.\n",
      "y_eval: 24.481277465820312, y_test: 11.899999618530273, diff: 12.581277847290039.\n"
     ]
    },
    {
     "name": "stderr",
     "output_type": "stream",
     "text": [
      "C:\\Users\\IMCK\\AppData\\Local\\Packages\\PythonSoftwareFoundation.Python.3.11_qbz5n2kfra8p0\\LocalCache\\local-packages\\Python311\\site-packages\\torch\\nn\\modules\\loss.py:535: UserWarning: Using a target size (torch.Size([100])) that is different to the input size (torch.Size([100, 1])). This will likely lead to incorrect results due to broadcasting. Please ensure they have the same size.\n",
      "  return F.mse_loss(input, target, reduction=self.reduction)\n"
     ]
    }
   ],
   "source": [
    "with torch.no_grad():\n",
    "    y_eval = model.forward(x_test)\n",
    "    loss = loss_func(y_eval, y_test)\n",
    "    print(loss)\n",
    "    for i in range(len(y_eval)):\n",
    "        print(f\"y_eval: {y_eval[i].item()}, y_test: {y_test[i]}, diff: {y_eval[i].item() - y_test[i]}.\")"
   ]
  },
  {
   "cell_type": "code",
   "execution_count": 32,
   "id": "2724cd32",
   "metadata": {},
   "outputs": [
    {
     "data": {
      "text/plain": [
       "OrderedDict([('func.weight',\n",
       "              tensor([[-4.8281e-03,  5.8852e-04, -1.1987e-02,  6.7038e-03,  5.9556e+00,\n",
       "                        5.4932e-01, -3.6237e-03,  1.4828e-01, -4.4572e-02,  8.4486e-04,\n",
       "                        1.4910e-01,  4.9364e-03,  2.5546e-02]])),\n",
       "             ('func.bias', tensor([12.3557]))])"
      ]
     },
     "execution_count": 32,
     "metadata": {},
     "output_type": "execute_result"
    }
   ],
   "source": [
    "model.state_dict()"
   ]
  },
  {
   "cell_type": "code",
   "execution_count": 33,
   "id": "debe713b",
   "metadata": {},
   "outputs": [],
   "source": [
    "def ridge_loss(output, target, model, alpha):\n",
    "    mse_loss = nn.MSELoss()(output, target)\n",
    "    l2_reg = torch.tensor(0.)\n",
    "    for param in model.parameters():\n",
    "        l2_reg += torch.norm(param)\n",
    "    return mse_loss + alpha + l2_reg"
   ]
  },
  {
   "cell_type": "code",
   "execution_count": 34,
   "id": "8d3d454c",
   "metadata": {},
   "outputs": [],
   "source": [
    "def lasso_loss(output, target, model, alpha):\n",
    "    mse_loss = nn.MSELoss()(output, target)\n",
    "    l1_reg = torch.tensor(0.)\n",
    "    for param in model.parameters():\n",
    "        l1_reg += torch.sum(torch.abs(param))\n",
    "    return mse_loss + alpha + l1_reg"
   ]
  },
  {
   "cell_type": "code",
   "execution_count": 35,
   "id": "41e8ffed",
   "metadata": {},
   "outputs": [],
   "source": [
    "optimizer2 = torch.optim.SGD(model.parameters(), lr = 0.01)"
   ]
  },
  {
   "cell_type": "code",
   "execution_count": 36,
   "id": "f85ab604",
   "metadata": {},
   "outputs": [],
   "source": [
    "model_ridge = LinearRegressionModel()"
   ]
  },
  {
   "cell_type": "code",
   "execution_count": 37,
   "id": "154b5854",
   "metadata": {},
   "outputs": [
    {
     "name": "stdout",
     "output_type": "stream",
     "text": [
      "Epoch: 100, loss: 26169.431640625\n",
      "Epoch: 200, loss: 26169.431640625\n",
      "Epoch: 300, loss: 26169.431640625\n",
      "Epoch: 400, loss: 26169.431640625\n",
      "Epoch: 500, loss: 26169.431640625\n",
      "Epoch: 600, loss: 26169.431640625\n",
      "Epoch: 700, loss: 26169.431640625\n",
      "Epoch: 800, loss: 26169.431640625\n",
      "Epoch: 900, loss: 26169.431640625\n",
      "Epoch: 1000, loss: 26169.431640625\n"
     ]
    }
   ],
   "source": [
    "epochs = 1000\n",
    "for i in range(epochs):\n",
    "    y_pred_ridge = model_ridge.forward(x_train)\n",
    "\n",
    "    loss_ridge = ridge_loss(y_pred_ridge, y_train, model_ridge, 0.1)\n",
    "\n",
    "    if (i+1)%100 == 0:\n",
    "        print(f\"Epoch: {i+1}, loss: {loss_ridge}\")\n",
    "\n",
    "    optimizer.zero_grad()\n",
    "    loss_ridge.backward()\n",
    "    optimizer2.step()\n"
   ]
  },
  {
   "cell_type": "code",
   "execution_count": 42,
   "id": "74af8760",
   "metadata": {},
   "outputs": [
    {
     "data": {
      "text/plain": [
       "OrderedDict([('func.weight',\n",
       "              tensor([[-0.0783, -0.1301,  0.0027, -0.1568,  0.2461, -0.2153, -0.0646, -0.0086,\n",
       "                        0.0058, -0.0700, -0.1462, -0.2736,  0.1537]])),\n",
       "             ('func.bias', tensor([0.1697]))])"
      ]
     },
     "execution_count": 42,
     "metadata": {},
     "output_type": "execute_result"
    }
   ],
   "source": [
    "model_ridge.state_dict()"
   ]
  },
  {
   "cell_type": "code",
   "execution_count": 43,
   "id": "40b92773",
   "metadata": {},
   "outputs": [
    {
     "data": {
      "text/plain": [
       "OrderedDict([('func.weight',\n",
       "              tensor([[-4.8281e-03,  5.8852e-04, -1.1987e-02,  6.7038e-03,  5.9556e+00,\n",
       "                        5.4932e-01, -3.6237e-03,  1.4828e-01, -4.4572e-02,  8.4486e-04,\n",
       "                        1.4910e-01,  4.9364e-03,  2.5546e-02]])),\n",
       "             ('func.bias', tensor([12.3557]))])"
      ]
     },
     "execution_count": 43,
     "metadata": {},
     "output_type": "execute_result"
    }
   ],
   "source": [
    "model.state_dict()"
   ]
  },
  {
   "cell_type": "code",
   "execution_count": 48,
   "id": "c090a321",
   "metadata": {},
   "outputs": [
    {
     "data": {
      "text/plain": [
       "OrderedDict([('func.weight',\n",
       "              tensor([[-4.1477e-03,  5.7454e-04, -1.1246e-02,  5.5110e-03,  5.4124e+00,\n",
       "                        4.8580e-01, -3.2924e-03,  1.3298e-01, -3.9733e-02,  7.5120e-04,\n",
       "                        1.3341e-01,  4.4364e-03,  2.2377e-02]])),\n",
       "             ('func.bias', tensor([13.6139]))])"
      ]
     },
     "execution_count": 48,
     "metadata": {},
     "output_type": "execute_result"
    }
   ],
   "source": [
    "model.state_dict()"
   ]
  },
  {
   "cell_type": "code",
   "execution_count": null,
   "id": "42d3fa19",
   "metadata": {},
   "outputs": [],
   "source": []
  },
  {
   "cell_type": "code",
   "execution_count": null,
   "id": "50f78381",
   "metadata": {},
   "outputs": [],
   "source": []
  }
 ],
 "metadata": {
  "kernelspec": {
   "display_name": "Python 3 (ipykernel)",
   "language": "python",
   "name": "python3"
  },
  "language_info": {
   "codemirror_mode": {
    "name": "ipython",
    "version": 3
   },
   "file_extension": ".py",
   "mimetype": "text/x-python",
   "name": "python",
   "nbconvert_exporter": "python",
   "pygments_lexer": "ipython3",
   "version": "3.11.9"
  }
 },
 "nbformat": 4,
 "nbformat_minor": 5
}
